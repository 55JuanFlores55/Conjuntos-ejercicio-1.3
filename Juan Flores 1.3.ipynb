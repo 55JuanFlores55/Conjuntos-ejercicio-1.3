{
 "cells": [
  {
   "cell_type": "markdown",
   "id": "f4dbec54",
   "metadata": {},
   "source": [
    "\"*ESCUELA POLITECNICA NACIONAL*\"\n",
    "\"FUNDAMENTOS DE BASES DE DATOS\"\n",
    "\"Juan Flores\"\n",
    "\"17/05/2024\"\n",
    "\n",
    "---"
   ]
  },
  {
   "cell_type": "markdown",
   "id": "c31ae11e-ce32-4b9e-a401-6e4709f69877",
   "metadata": {},
   "source": [
    "## CONJUNTO DE EJERCICIOS 1.3"
   ]
  },
  {
   "cell_type": "markdown",
   "id": "8d20237a-4cbc-4421-b295-fc7f21f15d6f",
   "metadata": {},
   "source": [
    "__1. Utilice aritmética de corte de tres dígitos para calcular las siguientes sumas. Para cada parte, ¿qué método es más preciso y por qué?__"
   ]
  },
  {
   "cell_type": "markdown",
   "id": "6eb98abc-3609-48fc-bc70-e746de6681ab",
   "metadata": {},
   "source": [
    "- a. `Σ(n=1 → 10) (1/n^2)` 1/1+1/2+1/4+...+1/100 y luego por 1/100+1/81+...+1/1\n",
    "\n",
    "- b. `Σ(n=1 → 10) (1/n^3)` 1/1+1/8+1/27+...+1/1000 y luego por 1/1000+1/729+...+1/1"
   ]
  },
  {
   "cell_type": "code",
   "execution_count": 44,
   "id": "17b4d700-dddb-45d9-836c-ef3fbfe74e69",
   "metadata": {
    "tags": []
   },
   "outputs": [],
   "source": [
    "def SumatoriaAcendente(num):\n",
    "    res = 0\n",
    "    for i in range(10):\n",
    "        res += 1 / ((i+1)**num)\n",
    "    return round(res,3)\n"
   ]
  },
  {
   "cell_type": "code",
   "execution_count": 52,
   "id": "61569f85-92f0-4d21-a567-de63598ba387",
   "metadata": {
    "tags": []
   },
   "outputs": [],
   "source": [
    "def SumatoriaDecendente(num):\n",
    "    res = 0\n",
    "    for i in range(10, 0, -1):\n",
    "        res += 1 / (i**num)\n",
    "    return round(res,3)"
   ]
  },
  {
   "cell_type": "code",
   "execution_count": 58,
   "id": "f8336b0a-c636-4920-8538-1211a6f74a9f",
   "metadata": {
    "tags": []
   },
   "outputs": [
    {
     "name": "stdout",
     "output_type": "stream",
     "text": [
      "Resultado 1:  1.55\n",
      "Resultado 2:  1.55\n"
     ]
    }
   ],
   "source": [
    "## literal A\n",
    "print(\"Resultado 1: \",SumatoriaAcendente(2))\n",
    "print(\"Resultado 2: \",SumatoriaDecendente(2))"
   ]
  },
  {
   "cell_type": "code",
   "execution_count": 59,
   "id": "43b422d5-c00e-4f13-a2f6-3f5b55967a24",
   "metadata": {
    "tags": []
   },
   "outputs": [
    {
     "name": "stdout",
     "output_type": "stream",
     "text": [
      "Resultado 1:  1.198\n",
      "Resultado 2:  1.198\n"
     ]
    }
   ],
   "source": [
    "## literal A\n",
    "print(\"Resultado 1: \",SumatoriaAcendente(3))\n",
    "print(\"Resultado 2: \",SumatoriaDecendente(3))"
   ]
  },
  {
   "cell_type": "markdown",
   "id": "7c08fb99-e4e6-4af3-9981-b05790125709",
   "metadata": {},
   "source": [
    "__2. La serie de Maclaurin para la función arcotangente converge para −1 < 𝑥 ≤ 1 y está dada por__\n",
    "\n",
    "<center>arctan 𝑥 =\\lim_{n \\to ∞} Pn(x) = `Σ(n=1 → n) (-1)^(i+1)(x^(2i-1))/(2i-1)`<center>"
   ]
  },
  {
   "cell_type": "markdown",
   "id": "88d26420-36b0-4754-90fb-d5ba6c119e65",
   "metadata": {},
   "source": [
    "- a. Utilice el hecho de que tan 𝜋⁄4 = 1 para determinar el número n de términos de la serie que se necesitasumar para garantizar que |4𝑃𝑛(1) − 𝜋| < 10−3\n",
    "- b. El lenguaje de programación C++ requiere que el valor de 𝜋 se encuentre dentro de 10−10. ¿Cuántostérminos de la serie se necesitarían sumar para obtener este grado de precisión?\n"
   ]
  },
  {
   "cell_type": "code",
   "execution_count": 2,
   "id": "bc8bbe07-bd4b-40e5-8dd6-0cb817d639b1",
   "metadata": {
    "tags": []
   },
   "outputs": [
    {
     "name": "stdout",
     "output_type": "stream",
     "text": [
      "Número de términos necesarios para garantizar |4P_n(1) - π| < 10^-3: 1000\n"
     ]
    }
   ],
   "source": [
    "import math\n",
    "pi = math.pi \n",
    "def arctan_series(x, n):\n",
    "    result = 0\n",
    "    for i in range(1, n+1):\n",
    "        result += ((-1)**(i+1) * (x**(2*i-1))) / (2*i-1)\n",
    "    return result\n",
    "n = 1\n",
    "while True:\n",
    "    approx_pi = 4 * arctan_series(1, n)\n",
    "    if abs(approx_pi - pi) < 10**(-3):\n",
    "        break\n",
    "    n += 1\n",
    "print(\"Número de términos necesarios para garantizar |4P_n(1) - π| < 10^-3:\", n)"
   ]
  },
  {
   "cell_type": "code",
   "execution_count": null,
   "id": "71e0367d-aafc-4c80-9f7d-42de74268496",
   "metadata": {
    "tags": []
   },
   "outputs": [],
   "source": [
    "tolerance = 10**(-10)\n",
    "n = 1\n",
    "while True:\n",
    "    approx_pi = 4 * arctan_series(1, n)\n",
    "    if abs(approx_pi - pi) < tolerance:\n",
    "        break\n",
    "    n += 1\n",
    "print(\"Número de términos necesarios para garantizar |4P_n(1) - π| < 10^-10:\", n)"
   ]
  },
  {
   "cell_type": "markdown",
   "id": "63df879f-a091-4f36-868e-a3fc53205dc8",
   "metadata": {},
   "source": [
    "__3. Otra fórmula para calcular 𝜋 se puede deducir a partir de la identidad 𝜋⁄4 = 4 arctan 1/5− arctan 1/239.__\n",
    "- Determine el número de términos que se deben sumar para garantizar una aproximación 𝜋 dentro de 10^−3."
   ]
  },
  {
   "cell_type": "code",
   "execution_count": null,
   "id": "da5a90b3-7051-4709-892e-e114dd70c1f4",
   "metadata": {
    "tags": []
   },
   "outputs": [],
   "source": [
    "termino_arctan = lambda x, n: (-1) ** n * (x ** (2 * n + 1)) / (2 * n + 1)\n",
    "x1 = 1/5\n",
    "x2 = 1/239\n",
    "n = 0\n",
    "error_limite = 1e-3\n",
    "termino_actual = termino_arctan(x1, n)\n",
    "while abs(termino_actual) >= error_limite:\n",
    "    n += 1\n",
    "    termino_actual = termino_arctan(x1, n)\n",
    "\n",
    "print(\"Número de términos necesarios para la primera serie:\", n)\n",
    "n = 0\n",
    "termino_actual = termino_arctan(x2, n)\n",
    "while abs(termino_actual) >= error_limite:\n",
    "    n += 1\n",
    "    termino_actual = termino_arctan(x2, n)\n",
    "\n",
    "print(\"Número de términos necesarios para la segunda serie:\", n)"
   ]
  },
  {
   "cell_type": "markdown",
   "id": "275234c7-7553-42fd-94be-c139053d599c",
   "metadata": {},
   "source": [
    "__4. Compare los siguientes tres algoritmos. ¿Cuándo es correcto el algoritmo de la parte 1a?__"
   ]
  },
  {
   "cell_type": "markdown",
   "id": "35286bd6-5959-45d5-b2e5-20e4c3bef0e2",
   "metadata": {},
   "source": [
    "- a. \n",
    "ENTRADA 𝑛, 𝑥1, 𝑥2, ⋯ , 𝑥𝑛.\n",
    "SALIDA PRODUCT.\n",
    "Paso 1 Determine PRODUCT = 0.\n",
    "Paso 2 Para 𝑖 = 1, 2, ⋯ , 𝑛 haga\n",
    "    Determine PRODUCT = PRODUCT ∗ 𝑥𝑖.\n",
    "Paso 3 SALIDA PRODUCT;\n",
    "    PARE.\n",
    "\n",
    "- b.\n",
    "ENTRADA 𝑛, 𝑥1, 𝑥2, ⋯ , 𝑥𝑛.\n",
    "SALIDA PRODUCT.\n",
    "Paso 1 Determine PRODUCT = 1.\n",
    "Paso 2 Para 𝑖 = 1, 2, ⋯ , 𝑛 haga\n",
    "    Set PRODUCT = PRODUCT ∗ 𝑥𝑖.\n",
    "Paso 3 SALIDA PRODUCT;\n",
    "    PARE.\n",
    "\n",
    "- c.\n",
    "ENTRADA 𝑛, 𝑥1, 𝑥2, ⋯ , 𝑥𝑛.\n",
    "SALIDA PRODUCT.\n",
    "Paso 1 Determine PRODUCT = 1.\n",
    "Paso 2 Para 𝑖 = 1, 2, ⋯ , 𝑛 haga\n",
    "    si 𝑥𝑖 = 0 entonces determine PRODUCT = 0;\n",
    "        SALIDA PRODUCT;\n",
    "        PARE\n",
    "    Determine PRODUCT = PRODUCT ∗ 𝑥𝑖.\n",
    "Paso 3 SALIDA PRODUCT;\n",
    "    PARE.\n"
   ]
  },
  {
   "cell_type": "code",
   "execution_count": null,
   "id": "03622438-f913-43bc-b5b2-512f57a3ed9b",
   "metadata": {
    "tags": []
   },
   "outputs": [],
   "source": [
    "def algoritmoUno (num):\n",
    "    resultado=0\n",
    "    for i in range(num,1):\n",
    "        resultado*=i\n",
    "    return resultado\n",
    "\n",
    "def algoritmoDos(num):\n",
    "    resultado=1\n",
    "    for i in range(num,1):\n",
    "        resultado*=i\n",
    "    return resultado\n",
    "\n",
    "del algoritmoTres(num):\n",
    "    resultado=1\n",
    "    if num==0:\n",
    "        return 0\n",
    "    else:\n",
    "        for i in range(num,1):\n",
    "            resultado*=i\n",
    "    return resultado"
   ]
  },
  {
   "cell_type": "code",
   "execution_count": null,
   "id": "74015a45-4388-4d46-a3aa-0e171a48d995",
   "metadata": {
    "tags": []
   },
   "outputs": [],
   "source": [
    "## Resultados:\n",
    "print(\"Resultado 1:\",algoritmoUno(5))\n",
    "print(\"Resultado 1:\",algoritmoDos(5))\n",
    "print(\"Resultado 1:\",algoritmoTres(5))"
   ]
  },
  {
   "cell_type": "markdown",
   "id": "90a766d7-9ad4-4c5c-9845-ab0aea15d94b",
   "metadata": {},
   "source": [
    "__5.__\n",
    "- a. ¿Cuántas multiplicaciones y sumas se requieren para determinar una suma de la forma\n",
    "<center>`Σ(i=1 → n) Σ(j=1 → i) (a<sub>i</sub>*b<sub>j</sub>)`<center>\n",
    "- b. Modifique la suma en la parte a) a un formato equivalente que reduzca el número de cálculo"
   ]
  },
  {
   "cell_type": "code",
   "execution_count": null,
   "id": "e12dfbcf-0fae-4b5a-a8fd-48f02ca2244d",
   "metadata": {
    "tags": []
   },
   "outputs": [],
   "source": [
    "def operaciones_para_suma_original(n):\n",
    "    multiplicaciones = n * (n + 1) // 2\n",
    "    sumas = n * (n + 1) // 2\n",
    "    return multiplicaciones, sumas\n",
    "\n",
    "def operaciones_para_suma_modificada(n):\n",
    "    multiplicaciones = n * (n + 1) // 2\n",
    "    sumas = n\n",
    "    return multiplicaciones, sumas\n",
    "\n",
    "n = 5 \n",
    "\n",
    "# Para la suma original\n",
    "mult_orig, sumas_orig = operaciones_para_suma_original(n)\n",
    "print(\"Para la suma original:\")\n",
    "print(\"Total de multiplicaciones necesarias:\", mult_orig)\n",
    "print(\"Total de sumas necesarias:\", sumas_orig)\n",
    "\n",
    "# Para la suma modificada\n",
    "mult_modif, sumas_modif = operaciones_para_suma_modificada(n)\n",
    "print(\"\\nPara la suma modificada:\")\n",
    "print(\"Total de multiplicaciones necesarias:\", mult_modif)\n",
    "print(\"Total de sumas necesarias:\", sumas_modif)"
   ]
  },
  {
   "cell_type": "markdown",
   "id": "e16dc483-e23f-4b09-9b40-b74e4b23b8f1",
   "metadata": {},
   "source": [
    "# DISCUSIONES"
   ]
  },
  {
   "cell_type": "markdown",
   "id": "db082ba8-f06c-4749-9079-61c6cbf1fa3e",
   "metadata": {
    "tags": []
   },
   "source": [
    "__Escriba un algoritmo para sumar la serie finita `Σ(i=1 → n) ( x<sub>i</sub> )` en orden inverso.__\n"
   ]
  },
  {
   "cell_type": "code",
   "execution_count": null,
   "id": "d35cf5e9-e31c-4653-9a54-3f23035100b3",
   "metadata": {
    "tags": []
   },
   "outputs": [],
   "source": [
    "def Algo1(num):\n",
    "    res=0\n",
    "    for i in range(num,0,-1):\n",
    "        res+=i\n",
    "    return res"
   ]
  },
  {
   "cell_type": "markdown",
   "id": "065c4c45-43e3-4fac-aa4a-5bbad103f4ba",
   "metadata": {},
   "source": [
    "__Las ecuaciones (1.2) y (1.3) en la sección 1.2 proporcionan formas alternativas para las raíces 𝑥1 y 𝑥2 de 𝑎𝑥^2 + 𝑏𝑥 + 𝑐 = 0. Construya un algoritmo con entrada 𝑎, 𝑏, 𝑐 c y salida 𝑥1, 𝑥2 que calcule las raíces 𝑥1 y 𝑥2\n",
    "(que pueden ser iguales con conjugados complejos) mediante la mejor fórmula para cada raíz.__\n"
   ]
  },
  {
   "cell_type": "code",
   "execution_count": null,
   "id": "98836477-b68a-48d5-9751-299d1cdb6298",
   "metadata": {
    "tags": []
   },
   "outputs": [],
   "source": [
    "import cmath\n",
    "\n",
    "def calcular_raices(a, b, c):\n",
    "    # Calcula el discriminante\n",
    "    discriminante = b**2 - 4*a*c\n",
    "    \n",
    "    # Calcula las raíces\n",
    "    if discriminante > 0:\n",
    "        raiz1 = (-b + discriminante**0.5) / (2*a)\n",
    "        raiz2 = (-b - discriminante**0.5) / (2*a)\n",
    "    elif discriminante == 0:\n",
    "        raiz1 = raiz2 = -b / (2*a)\n",
    "    else:\n",
    "        parte_real = -b / (2*a)\n",
    "        parte_imaginaria = cmath.sqrt(abs(discriminante)) / (2*a)\n",
    "        raiz1 = parte_real + parte_imaginaria * 1j\n",
    "        raiz2 = parte_real - parte_imaginaria * 1j\n",
    "    \n",
    "    return raiz1, raiz2"
   ]
  },
  {
   "cell_type": "code",
   "execution_count": null,
   "id": "8489b07c-0bdb-4ede-ab32-3cf679ff0695",
   "metadata": {
    "tags": []
   },
   "outputs": [],
   "source": [
    "\n",
    "raiz1, raiz2 = calcular_raices(1, -3, 2)\n",
    "print(\"Raíz 1:\", raiz1)\n",
    "print(\"Raíz 2:\", raiz2)"
   ]
  },
  {
   "cell_type": "markdown",
   "id": "c4f83331-186c-45ef-808b-6b28004a4c1f",
   "metadata": {
    "tags": []
   },
   "source": [
    "__Suponga que__\n",
    "<center>(1−2𝑥)/(1−𝑥+𝑥^2) + (2𝑥−4𝑥^3)/(1−𝑥^2+𝑥^) + (4𝑥^3−8𝑥^7)/(1−𝑥^4+𝑥^8) + ⋯ = (1+2𝑥)/(1+𝑥+𝑥^2),<center>\n",
    "\n",
    "__para 𝑥 < 1 y si 𝑥 = 0.25. Escriba y ejecute un algoritmo que determine el número de términos necesarios en\n",
    "el lado izquierdo de la ecuación de tal forma que el lado izquierdo difiera del lado derecho en menos de 10^−6.__"
   ]
  },
  {
   "cell_type": "code",
   "execution_count": null,
   "id": "9a9f508e-15bf-4cad-b2c6-e8cdb896c277",
   "metadata": {
    "tags": []
   },
   "outputs": [],
   "source": [
    "def calcular_lado_izquierdo(x, precision):\n",
    "    suma_izquierda = 0\n",
    "    termino_actual = 1\n",
    "    diferencia = float('inf') \n",
    "    \n",
    "    while diferencia > precision:\n",
    "        numerador = 2**(termino_actual - 1) * x**(2*termino_actual - 1)\n",
    "        denominador = 1\n",
    "        for i in range(termino_actual):\n",
    "            denominador *= 1 - x**(2**i)\n",
    "        termino = numerador / denominador\n",
    "        \n",
    "        suma_izquierda += termino\n",
    "        \n",
    "        lado_derecho = (1 + 2*x) / (1 + x + x**2)\n",
    "        diferencia = abs(suma_izquierda - lado_derecho)\n",
    "        \n",
    "        termino_actual += 1\n",
    "    \n",
    "    return termino_actual - 1  \n",
    "\n",
    "x = 0.25\n",
    "precision = 1e-6\n",
    "num_terminos = calcular_lado_izquierdo(x, precision)\n",
    "print(\"Número de términos necesarios:\", num_terminos)"
   ]
  },
  {
   "cell_type": "code",
   "execution_count": null,
   "id": "fc8e59d2-521d-470f-9531-328970c626b0",
   "metadata": {},
   "outputs": [],
   "source": []
  }
 ],
 "metadata": {
  "kernelspec": {
   "display_name": "Python 3 (ipykernel)",
   "language": "python",
   "name": "python3"
  },
  "language_info": {
   "codemirror_mode": {
    "name": "ipython",
    "version": 3
   },
   "file_extension": ".py",
   "mimetype": "text/x-python",
   "name": "python",
   "nbconvert_exporter": "python",
   "pygments_lexer": "ipython3",
   "version": "3.11.5"
  }
 },
 "nbformat": 4,
 "nbformat_minor": 5
}
